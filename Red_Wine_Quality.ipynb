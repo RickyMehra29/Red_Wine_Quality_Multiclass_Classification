{
 "cells": [
  {
   "cell_type": "code",
   "execution_count": 1,
   "id": "43b5b5c7",
   "metadata": {},
   "outputs": [],
   "source": [
    "import pandas as pd\n",
    "import numpy as np\n",
    "import seaborn as sns\n",
    "import matplotlib.pyplot as plt\n",
    "%matplotlib inline\n",
    "\n",
    "import warnings\n",
    "warnings.filterwarnings('ignore')\n",
    "\n",
    "import os,sys\n",
    "import pickle"
   ]
  },
  {
   "cell_type": "code",
   "execution_count": 2,
   "id": "33230fb3",
   "metadata": {},
   "outputs": [
    {
     "data": {
      "text/plain": [
       "Index(['fixed acidity', 'volatile acidity', 'citric acid', 'residual sugar',\n",
       "       'chlorides', 'free sulfur dioxide', 'total sulfur dioxide', 'density',\n",
       "       'pH', 'sulphates', 'alcohol', 'quality'],\n",
       "      dtype='object')"
      ]
     },
     "execution_count": 2,
     "metadata": {},
     "output_type": "execute_result"
    }
   ],
   "source": [
    "df = pd.read_csv(\"https://raw.githubusercontent.com/aniruddhachoudhury/Red-Wine-Quality/master/winequality-red.csv\")\n",
    "df.columns"
   ]
  },
  {
   "cell_type": "code",
   "execution_count": 3,
   "id": "08fb3e92",
   "metadata": {},
   "outputs": [
    {
     "data": {
      "text/html": [
       "<div>\n",
       "<style scoped>\n",
       "    .dataframe tbody tr th:only-of-type {\n",
       "        vertical-align: middle;\n",
       "    }\n",
       "\n",
       "    .dataframe tbody tr th {\n",
       "        vertical-align: top;\n",
       "    }\n",
       "\n",
       "    .dataframe thead th {\n",
       "        text-align: right;\n",
       "    }\n",
       "</style>\n",
       "<table border=\"1\" class=\"dataframe\">\n",
       "  <thead>\n",
       "    <tr style=\"text-align: right;\">\n",
       "      <th></th>\n",
       "      <th>fixed acidity</th>\n",
       "      <th>volatile acidity</th>\n",
       "      <th>citric acid</th>\n",
       "      <th>residual sugar</th>\n",
       "      <th>chlorides</th>\n",
       "      <th>free sulfur dioxide</th>\n",
       "      <th>total sulfur dioxide</th>\n",
       "      <th>density</th>\n",
       "      <th>pH</th>\n",
       "      <th>sulphates</th>\n",
       "      <th>alcohol</th>\n",
       "      <th>quality</th>\n",
       "    </tr>\n",
       "  </thead>\n",
       "  <tbody>\n",
       "    <tr>\n",
       "      <th>0</th>\n",
       "      <td>7.4</td>\n",
       "      <td>0.70</td>\n",
       "      <td>0.00</td>\n",
       "      <td>1.9</td>\n",
       "      <td>0.076</td>\n",
       "      <td>11.0</td>\n",
       "      <td>34.0</td>\n",
       "      <td>0.9978</td>\n",
       "      <td>3.51</td>\n",
       "      <td>0.56</td>\n",
       "      <td>9.4</td>\n",
       "      <td>5</td>\n",
       "    </tr>\n",
       "    <tr>\n",
       "      <th>1</th>\n",
       "      <td>7.8</td>\n",
       "      <td>0.88</td>\n",
       "      <td>0.00</td>\n",
       "      <td>2.6</td>\n",
       "      <td>0.098</td>\n",
       "      <td>25.0</td>\n",
       "      <td>67.0</td>\n",
       "      <td>0.9968</td>\n",
       "      <td>3.20</td>\n",
       "      <td>0.68</td>\n",
       "      <td>9.8</td>\n",
       "      <td>5</td>\n",
       "    </tr>\n",
       "    <tr>\n",
       "      <th>2</th>\n",
       "      <td>7.8</td>\n",
       "      <td>0.76</td>\n",
       "      <td>0.04</td>\n",
       "      <td>2.3</td>\n",
       "      <td>0.092</td>\n",
       "      <td>15.0</td>\n",
       "      <td>54.0</td>\n",
       "      <td>0.9970</td>\n",
       "      <td>3.26</td>\n",
       "      <td>0.65</td>\n",
       "      <td>9.8</td>\n",
       "      <td>5</td>\n",
       "    </tr>\n",
       "    <tr>\n",
       "      <th>3</th>\n",
       "      <td>11.2</td>\n",
       "      <td>0.28</td>\n",
       "      <td>0.56</td>\n",
       "      <td>1.9</td>\n",
       "      <td>0.075</td>\n",
       "      <td>17.0</td>\n",
       "      <td>60.0</td>\n",
       "      <td>0.9980</td>\n",
       "      <td>3.16</td>\n",
       "      <td>0.58</td>\n",
       "      <td>9.8</td>\n",
       "      <td>6</td>\n",
       "    </tr>\n",
       "    <tr>\n",
       "      <th>4</th>\n",
       "      <td>7.4</td>\n",
       "      <td>0.70</td>\n",
       "      <td>0.00</td>\n",
       "      <td>1.9</td>\n",
       "      <td>0.076</td>\n",
       "      <td>11.0</td>\n",
       "      <td>34.0</td>\n",
       "      <td>0.9978</td>\n",
       "      <td>3.51</td>\n",
       "      <td>0.56</td>\n",
       "      <td>9.4</td>\n",
       "      <td>5</td>\n",
       "    </tr>\n",
       "  </tbody>\n",
       "</table>\n",
       "</div>"
      ],
      "text/plain": [
       "   fixed acidity  volatile acidity  citric acid  residual sugar  chlorides  \\\n",
       "0            7.4              0.70         0.00             1.9      0.076   \n",
       "1            7.8              0.88         0.00             2.6      0.098   \n",
       "2            7.8              0.76         0.04             2.3      0.092   \n",
       "3           11.2              0.28         0.56             1.9      0.075   \n",
       "4            7.4              0.70         0.00             1.9      0.076   \n",
       "\n",
       "   free sulfur dioxide  total sulfur dioxide  density    pH  sulphates  \\\n",
       "0                 11.0                  34.0   0.9978  3.51       0.56   \n",
       "1                 25.0                  67.0   0.9968  3.20       0.68   \n",
       "2                 15.0                  54.0   0.9970  3.26       0.65   \n",
       "3                 17.0                  60.0   0.9980  3.16       0.58   \n",
       "4                 11.0                  34.0   0.9978  3.51       0.56   \n",
       "\n",
       "   alcohol  quality  \n",
       "0      9.4        5  \n",
       "1      9.8        5  \n",
       "2      9.8        5  \n",
       "3      9.8        6  \n",
       "4      9.4        5  "
      ]
     },
     "execution_count": 3,
     "metadata": {},
     "output_type": "execute_result"
    }
   ],
   "source": [
    "df.head()"
   ]
  },
  {
   "cell_type": "code",
   "execution_count": 4,
   "id": "84fd4911",
   "metadata": {},
   "outputs": [
    {
     "data": {
      "text/plain": [
       "(1599, 12)"
      ]
     },
     "execution_count": 4,
     "metadata": {},
     "output_type": "execute_result"
    }
   ],
   "source": [
    "df.shape"
   ]
  },
  {
   "cell_type": "code",
   "execution_count": 5,
   "id": "febc579c",
   "metadata": {},
   "outputs": [],
   "source": [
    "def detail_info():\n",
    "    temp_df = pd.DataFrame(index= df.columns)\n",
    "    \n",
    "    temp_df['data_type'] = df.dtypes\n",
    "    temp_df['unique_val'] = df.nunique()\n",
    "    temp_df['missing_val'] = df.isnull().sum()\n",
    "    temp_df['missing_val_%'] = round(df.isnull().mean()*100,2)\n",
    "    \n",
    "    return temp_df"
   ]
  },
  {
   "cell_type": "code",
   "execution_count": 6,
   "id": "37ee60fa",
   "metadata": {},
   "outputs": [
    {
     "data": {
      "text/html": [
       "<div>\n",
       "<style scoped>\n",
       "    .dataframe tbody tr th:only-of-type {\n",
       "        vertical-align: middle;\n",
       "    }\n",
       "\n",
       "    .dataframe tbody tr th {\n",
       "        vertical-align: top;\n",
       "    }\n",
       "\n",
       "    .dataframe thead th {\n",
       "        text-align: right;\n",
       "    }\n",
       "</style>\n",
       "<table border=\"1\" class=\"dataframe\">\n",
       "  <thead>\n",
       "    <tr style=\"text-align: right;\">\n",
       "      <th></th>\n",
       "      <th>data_type</th>\n",
       "      <th>unique_val</th>\n",
       "      <th>missing_val</th>\n",
       "      <th>missing_val_%</th>\n",
       "    </tr>\n",
       "  </thead>\n",
       "  <tbody>\n",
       "    <tr>\n",
       "      <th>fixed acidity</th>\n",
       "      <td>float64</td>\n",
       "      <td>96</td>\n",
       "      <td>0</td>\n",
       "      <td>0.0</td>\n",
       "    </tr>\n",
       "    <tr>\n",
       "      <th>volatile acidity</th>\n",
       "      <td>float64</td>\n",
       "      <td>143</td>\n",
       "      <td>0</td>\n",
       "      <td>0.0</td>\n",
       "    </tr>\n",
       "    <tr>\n",
       "      <th>citric acid</th>\n",
       "      <td>float64</td>\n",
       "      <td>80</td>\n",
       "      <td>0</td>\n",
       "      <td>0.0</td>\n",
       "    </tr>\n",
       "    <tr>\n",
       "      <th>residual sugar</th>\n",
       "      <td>float64</td>\n",
       "      <td>91</td>\n",
       "      <td>0</td>\n",
       "      <td>0.0</td>\n",
       "    </tr>\n",
       "    <tr>\n",
       "      <th>chlorides</th>\n",
       "      <td>float64</td>\n",
       "      <td>153</td>\n",
       "      <td>0</td>\n",
       "      <td>0.0</td>\n",
       "    </tr>\n",
       "    <tr>\n",
       "      <th>free sulfur dioxide</th>\n",
       "      <td>float64</td>\n",
       "      <td>60</td>\n",
       "      <td>0</td>\n",
       "      <td>0.0</td>\n",
       "    </tr>\n",
       "    <tr>\n",
       "      <th>total sulfur dioxide</th>\n",
       "      <td>float64</td>\n",
       "      <td>144</td>\n",
       "      <td>0</td>\n",
       "      <td>0.0</td>\n",
       "    </tr>\n",
       "    <tr>\n",
       "      <th>density</th>\n",
       "      <td>float64</td>\n",
       "      <td>436</td>\n",
       "      <td>0</td>\n",
       "      <td>0.0</td>\n",
       "    </tr>\n",
       "    <tr>\n",
       "      <th>pH</th>\n",
       "      <td>float64</td>\n",
       "      <td>89</td>\n",
       "      <td>0</td>\n",
       "      <td>0.0</td>\n",
       "    </tr>\n",
       "    <tr>\n",
       "      <th>sulphates</th>\n",
       "      <td>float64</td>\n",
       "      <td>96</td>\n",
       "      <td>0</td>\n",
       "      <td>0.0</td>\n",
       "    </tr>\n",
       "    <tr>\n",
       "      <th>alcohol</th>\n",
       "      <td>float64</td>\n",
       "      <td>65</td>\n",
       "      <td>0</td>\n",
       "      <td>0.0</td>\n",
       "    </tr>\n",
       "    <tr>\n",
       "      <th>quality</th>\n",
       "      <td>int64</td>\n",
       "      <td>6</td>\n",
       "      <td>0</td>\n",
       "      <td>0.0</td>\n",
       "    </tr>\n",
       "  </tbody>\n",
       "</table>\n",
       "</div>"
      ],
      "text/plain": [
       "                     data_type  unique_val  missing_val  missing_val_%\n",
       "fixed acidity          float64          96            0            0.0\n",
       "volatile acidity       float64         143            0            0.0\n",
       "citric acid            float64          80            0            0.0\n",
       "residual sugar         float64          91            0            0.0\n",
       "chlorides              float64         153            0            0.0\n",
       "free sulfur dioxide    float64          60            0            0.0\n",
       "total sulfur dioxide   float64         144            0            0.0\n",
       "density                float64         436            0            0.0\n",
       "pH                     float64          89            0            0.0\n",
       "sulphates              float64          96            0            0.0\n",
       "alcohol                float64          65            0            0.0\n",
       "quality                  int64           6            0            0.0"
      ]
     },
     "execution_count": 6,
     "metadata": {},
     "output_type": "execute_result"
    }
   ],
   "source": [
    "detail_info()"
   ]
  },
  {
   "cell_type": "code",
   "execution_count": 7,
   "id": "47d8b72b",
   "metadata": {},
   "outputs": [
    {
     "data": {
      "text/plain": [
       "array([5, 6, 7, 4, 8, 3], dtype=int64)"
      ]
     },
     "execution_count": 7,
     "metadata": {},
     "output_type": "execute_result"
    }
   ],
   "source": [
    "# There is no missing value\n",
    "# Output class is multiclass & having 6 classes\n",
    "\n",
    "df['quality'].unique()"
   ]
  },
  {
   "cell_type": "code",
   "execution_count": 8,
   "id": "7cd462ec",
   "metadata": {},
   "outputs": [
    {
     "data": {
      "text/plain": [
       "5    681\n",
       "6    638\n",
       "7    199\n",
       "4     53\n",
       "8     18\n",
       "3     10\n",
       "Name: quality, dtype: int64"
      ]
     },
     "execution_count": 8,
     "metadata": {},
     "output_type": "execute_result"
    }
   ],
   "source": [
    "df['quality'].value_counts()"
   ]
  },
  {
   "cell_type": "code",
   "execution_count": 9,
   "id": "fc767f1c",
   "metadata": {},
   "outputs": [
    {
     "data": {
      "text/html": [
       "<div>\n",
       "<style scoped>\n",
       "    .dataframe tbody tr th:only-of-type {\n",
       "        vertical-align: middle;\n",
       "    }\n",
       "\n",
       "    .dataframe tbody tr th {\n",
       "        vertical-align: top;\n",
       "    }\n",
       "\n",
       "    .dataframe thead tr th {\n",
       "        text-align: left;\n",
       "    }\n",
       "\n",
       "    .dataframe thead tr:last-of-type th {\n",
       "        text-align: right;\n",
       "    }\n",
       "</style>\n",
       "<table border=\"1\" class=\"dataframe\">\n",
       "  <thead>\n",
       "    <tr>\n",
       "      <th></th>\n",
       "      <th>quality</th>\n",
       "    </tr>\n",
       "    <tr>\n",
       "      <th></th>\n",
       "      <th>count</th>\n",
       "    </tr>\n",
       "    <tr>\n",
       "      <th>quality</th>\n",
       "      <th></th>\n",
       "    </tr>\n",
       "  </thead>\n",
       "  <tbody>\n",
       "    <tr>\n",
       "      <th>3</th>\n",
       "      <td>10</td>\n",
       "    </tr>\n",
       "    <tr>\n",
       "      <th>4</th>\n",
       "      <td>53</td>\n",
       "    </tr>\n",
       "    <tr>\n",
       "      <th>5</th>\n",
       "      <td>681</td>\n",
       "    </tr>\n",
       "    <tr>\n",
       "      <th>6</th>\n",
       "      <td>638</td>\n",
       "    </tr>\n",
       "    <tr>\n",
       "      <th>7</th>\n",
       "      <td>199</td>\n",
       "    </tr>\n",
       "    <tr>\n",
       "      <th>8</th>\n",
       "      <td>18</td>\n",
       "    </tr>\n",
       "  </tbody>\n",
       "</table>\n",
       "</div>"
      ],
      "text/plain": [
       "        quality\n",
       "          count\n",
       "quality        \n",
       "3            10\n",
       "4            53\n",
       "5           681\n",
       "6           638\n",
       "7           199\n",
       "8            18"
      ]
     },
     "execution_count": 9,
     "metadata": {},
     "output_type": "execute_result"
    }
   ],
   "source": [
    "group1 = df.groupby(['quality']).agg({'quality':['count']})\n",
    "group1"
   ]
  },
  {
   "cell_type": "code",
   "execution_count": 10,
   "id": "278d1606",
   "metadata": {},
   "outputs": [
    {
     "data": {
      "text/plain": [
       "<AxesSubplot:xlabel='quality', ylabel='count'>"
      ]
     },
     "execution_count": 10,
     "metadata": {},
     "output_type": "execute_result"
    },
    {
     "data": {
      "image/png": "[encoded data removed]",
      "text/plain": [
       "<Figure size 500x300 with 1 Axes>"
      ]
     },
     "metadata": {},
     "output_type": "display_data"
    }
   ],
   "source": [
    "plt.figure(figsize=(5,3))\n",
    "sns.countplot(df['quality'])"
   ]
  },
  {
   "cell_type": "code",
   "execution_count": 11,
   "id": "f81308f6",
   "metadata": {},
   "outputs": [],
   "source": [
    "def feature_encoder(df, col):\n",
    "    temp_list = sorted(df['quality'].unique())\n",
    "    return dict(zip(temp_list, range(len(temp_list)))) "
   ]
  },
  {
   "cell_type": "code",
   "execution_count": 12,
   "id": "f8e73ba7",
   "metadata": {},
   "outputs": [
    {
     "data": {
      "text/plain": [
       "{3: 0, 4: 1, 5: 2, 6: 3, 7: 4, 8: 5}"
      ]
     },
     "execution_count": 12,
     "metadata": {},
     "output_type": "execute_result"
    }
   ],
   "source": [
    "output_encoder = feature_encoder(df, 'quality')\n",
    "output_encoder"
   ]
  },
  {
   "cell_type": "code",
   "execution_count": 13,
   "id": "12cb2bb3",
   "metadata": {},
   "outputs": [],
   "source": [
    "df['quality'] = df['quality'].map(output_encoder)"
   ]
  },
  {
   "cell_type": "code",
   "execution_count": 14,
   "id": "683737ac",
   "metadata": {},
   "outputs": [
    {
     "data": {
      "text/html": [
       "<div>\n",
       "<style scoped>\n",
       "    .dataframe tbody tr th:only-of-type {\n",
       "        vertical-align: middle;\n",
       "    }\n",
       "\n",
       "    .dataframe tbody tr th {\n",
       "        vertical-align: top;\n",
       "    }\n",
       "\n",
       "    .dataframe thead th {\n",
       "        text-align: right;\n",
       "    }\n",
       "</style>\n",
       "<table border=\"1\" class=\"dataframe\">\n",
       "  <thead>\n",
       "    <tr style=\"text-align: right;\">\n",
       "      <th></th>\n",
       "      <th>fixed acidity</th>\n",
       "      <th>volatile acidity</th>\n",
       "      <th>citric acid</th>\n",
       "      <th>residual sugar</th>\n",
       "      <th>chlorides</th>\n",
       "      <th>free sulfur dioxide</th>\n",
       "      <th>total sulfur dioxide</th>\n",
       "      <th>density</th>\n",
       "      <th>pH</th>\n",
       "      <th>sulphates</th>\n",
       "      <th>alcohol</th>\n",
       "      <th>quality</th>\n",
       "    </tr>\n",
       "  </thead>\n",
       "  <tbody>\n",
       "    <tr>\n",
       "      <th>0</th>\n",
       "      <td>7.4</td>\n",
       "      <td>0.70</td>\n",
       "      <td>0.00</td>\n",
       "      <td>1.9</td>\n",
       "      <td>0.076</td>\n",
       "      <td>11.0</td>\n",
       "      <td>34.0</td>\n",
       "      <td>0.9978</td>\n",
       "      <td>3.51</td>\n",
       "      <td>0.56</td>\n",
       "      <td>9.4</td>\n",
       "      <td>2</td>\n",
       "    </tr>\n",
       "    <tr>\n",
       "      <th>1</th>\n",
       "      <td>7.8</td>\n",
       "      <td>0.88</td>\n",
       "      <td>0.00</td>\n",
       "      <td>2.6</td>\n",
       "      <td>0.098</td>\n",
       "      <td>25.0</td>\n",
       "      <td>67.0</td>\n",
       "      <td>0.9968</td>\n",
       "      <td>3.20</td>\n",
       "      <td>0.68</td>\n",
       "      <td>9.8</td>\n",
       "      <td>2</td>\n",
       "    </tr>\n",
       "    <tr>\n",
       "      <th>2</th>\n",
       "      <td>7.8</td>\n",
       "      <td>0.76</td>\n",
       "      <td>0.04</td>\n",
       "      <td>2.3</td>\n",
       "      <td>0.092</td>\n",
       "      <td>15.0</td>\n",
       "      <td>54.0</td>\n",
       "      <td>0.9970</td>\n",
       "      <td>3.26</td>\n",
       "      <td>0.65</td>\n",
       "      <td>9.8</td>\n",
       "      <td>2</td>\n",
       "    </tr>\n",
       "    <tr>\n",
       "      <th>3</th>\n",
       "      <td>11.2</td>\n",
       "      <td>0.28</td>\n",
       "      <td>0.56</td>\n",
       "      <td>1.9</td>\n",
       "      <td>0.075</td>\n",
       "      <td>17.0</td>\n",
       "      <td>60.0</td>\n",
       "      <td>0.9980</td>\n",
       "      <td>3.16</td>\n",
       "      <td>0.58</td>\n",
       "      <td>9.8</td>\n",
       "      <td>3</td>\n",
       "    </tr>\n",
       "    <tr>\n",
       "      <th>4</th>\n",
       "      <td>7.4</td>\n",
       "      <td>0.70</td>\n",
       "      <td>0.00</td>\n",
       "      <td>1.9</td>\n",
       "      <td>0.076</td>\n",
       "      <td>11.0</td>\n",
       "      <td>34.0</td>\n",
       "      <td>0.9978</td>\n",
       "      <td>3.51</td>\n",
       "      <td>0.56</td>\n",
       "      <td>9.4</td>\n",
       "      <td>2</td>\n",
       "    </tr>\n",
       "  </tbody>\n",
       "</table>\n",
       "</div>"
      ],
      "text/plain": [
       "   fixed acidity  volatile acidity  citric acid  residual sugar  chlorides  \\\n",
       "0            7.4              0.70         0.00             1.9      0.076   \n",
       "1            7.8              0.88         0.00             2.6      0.098   \n",
       "2            7.8              0.76         0.04             2.3      0.092   \n",
       "3           11.2              0.28         0.56             1.9      0.075   \n",
       "4            7.4              0.70         0.00             1.9      0.076   \n",
       "\n",
       "   free sulfur dioxide  total sulfur dioxide  density    pH  sulphates  \\\n",
       "0                 11.0                  34.0   0.9978  3.51       0.56   \n",
       "1                 25.0                  67.0   0.9968  3.20       0.68   \n",
       "2                 15.0                  54.0   0.9970  3.26       0.65   \n",
       "3                 17.0                  60.0   0.9980  3.16       0.58   \n",
       "4                 11.0                  34.0   0.9978  3.51       0.56   \n",
       "\n",
       "   alcohol  quality  \n",
       "0      9.4        2  \n",
       "1      9.8        2  \n",
       "2      9.8        2  \n",
       "3      9.8        3  \n",
       "4      9.4        2  "
      ]
     },
     "execution_count": 14,
     "metadata": {},
     "output_type": "execute_result"
    }
   ],
   "source": [
    "df.head()"
   ]
  },
  {
   "cell_type": "code",
   "execution_count": 15,
   "id": "559c4255",
   "metadata": {},
   "outputs": [
    {
     "data": {
      "image/png": "[encoded data removed]",
      "text/plain": [
       "<Figure size 1500x2000 with 11 Axes>"
      ]
     },
     "metadata": {},
     "output_type": "display_data"
    }
   ],
   "source": [
    "plt.figure(figsize=(15,20))\n",
    "for enum, feature in enumerate(df.columns):\n",
    "    if feature != 'quality':        \n",
    "        plt.subplot(4,3, enum+1)\n",
    "        sns.distplot(df[feature], color='b', bins =20)\n",
    "        plt.xlabel(feature)\n",
    "        plt.show"
   ]
  },
  {
   "cell_type": "code",
   "execution_count": 16,
   "id": "bce4f1f8",
   "metadata": {},
   "outputs": [
    {
     "data": {
      "text/html": [
       "<div>\n",
       "<style scoped>\n",
       "    .dataframe tbody tr th:only-of-type {\n",
       "        vertical-align: middle;\n",
       "    }\n",
       "\n",
       "    .dataframe tbody tr th {\n",
       "        vertical-align: top;\n",
       "    }\n",
       "\n",
       "    .dataframe thead th {\n",
       "        text-align: right;\n",
       "    }\n",
       "</style>\n",
       "<table border=\"1\" class=\"dataframe\">\n",
       "  <thead>\n",
       "    <tr style=\"text-align: right;\">\n",
       "      <th></th>\n",
       "      <th>count</th>\n",
       "      <th>mean</th>\n",
       "      <th>std</th>\n",
       "      <th>min</th>\n",
       "      <th>25%</th>\n",
       "      <th>50%</th>\n",
       "      <th>75%</th>\n",
       "      <th>max</th>\n",
       "    </tr>\n",
       "  </thead>\n",
       "  <tbody>\n",
       "    <tr>\n",
       "      <th>fixed acidity</th>\n",
       "      <td>1599.0</td>\n",
       "      <td>8.319637</td>\n",
       "      <td>1.741096</td>\n",
       "      <td>4.60000</td>\n",
       "      <td>7.1000</td>\n",
       "      <td>7.90000</td>\n",
       "      <td>9.200000</td>\n",
       "      <td>15.90000</td>\n",
       "    </tr>\n",
       "    <tr>\n",
       "      <th>volatile acidity</th>\n",
       "      <td>1599.0</td>\n",
       "      <td>0.527821</td>\n",
       "      <td>0.179060</td>\n",
       "      <td>0.12000</td>\n",
       "      <td>0.3900</td>\n",
       "      <td>0.52000</td>\n",
       "      <td>0.640000</td>\n",
       "      <td>1.58000</td>\n",
       "    </tr>\n",
       "    <tr>\n",
       "      <th>citric acid</th>\n",
       "      <td>1599.0</td>\n",
       "      <td>0.270976</td>\n",
       "      <td>0.194801</td>\n",
       "      <td>0.00000</td>\n",
       "      <td>0.0900</td>\n",
       "      <td>0.26000</td>\n",
       "      <td>0.420000</td>\n",
       "      <td>1.00000</td>\n",
       "    </tr>\n",
       "    <tr>\n",
       "      <th>residual sugar</th>\n",
       "      <td>1599.0</td>\n",
       "      <td>2.538806</td>\n",
       "      <td>1.409928</td>\n",
       "      <td>0.90000</td>\n",
       "      <td>1.9000</td>\n",
       "      <td>2.20000</td>\n",
       "      <td>2.600000</td>\n",
       "      <td>15.50000</td>\n",
       "    </tr>\n",
       "    <tr>\n",
       "      <th>chlorides</th>\n",
       "      <td>1599.0</td>\n",
       "      <td>0.087467</td>\n",
       "      <td>0.047065</td>\n",
       "      <td>0.01200</td>\n",
       "      <td>0.0700</td>\n",
       "      <td>0.07900</td>\n",
       "      <td>0.090000</td>\n",
       "      <td>0.61100</td>\n",
       "    </tr>\n",
       "    <tr>\n",
       "      <th>free sulfur dioxide</th>\n",
       "      <td>1599.0</td>\n",
       "      <td>15.874922</td>\n",
       "      <td>10.460157</td>\n",
       "      <td>1.00000</td>\n",
       "      <td>7.0000</td>\n",
       "      <td>14.00000</td>\n",
       "      <td>21.000000</td>\n",
       "      <td>72.00000</td>\n",
       "    </tr>\n",
       "    <tr>\n",
       "      <th>total sulfur dioxide</th>\n",
       "      <td>1599.0</td>\n",
       "      <td>46.467792</td>\n",
       "      <td>32.895324</td>\n",
       "      <td>6.00000</td>\n",
       "      <td>22.0000</td>\n",
       "      <td>38.00000</td>\n",
       "      <td>62.000000</td>\n",
       "      <td>289.00000</td>\n",
       "    </tr>\n",
       "    <tr>\n",
       "      <th>density</th>\n",
       "      <td>1599.0</td>\n",
       "      <td>0.996747</td>\n",
       "      <td>0.001887</td>\n",
       "      <td>0.99007</td>\n",
       "      <td>0.9956</td>\n",
       "      <td>0.99675</td>\n",
       "      <td>0.997835</td>\n",
       "      <td>1.00369</td>\n",
       "    </tr>\n",
       "    <tr>\n",
       "      <th>pH</th>\n",
       "      <td>1599.0</td>\n",
       "      <td>3.311113</td>\n",
       "      <td>0.154386</td>\n",
       "      <td>2.74000</td>\n",
       "      <td>3.2100</td>\n",
       "      <td>3.31000</td>\n",
       "      <td>3.400000</td>\n",
       "      <td>4.01000</td>\n",
       "    </tr>\n",
       "    <tr>\n",
       "      <th>sulphates</th>\n",
       "      <td>1599.0</td>\n",
       "      <td>0.658149</td>\n",
       "      <td>0.169507</td>\n",
       "      <td>0.33000</td>\n",
       "      <td>0.5500</td>\n",
       "      <td>0.62000</td>\n",
       "      <td>0.730000</td>\n",
       "      <td>2.00000</td>\n",
       "    </tr>\n",
       "    <tr>\n",
       "      <th>alcohol</th>\n",
       "      <td>1599.0</td>\n",
       "      <td>10.422983</td>\n",
       "      <td>1.065668</td>\n",
       "      <td>8.40000</td>\n",
       "      <td>9.5000</td>\n",
       "      <td>10.20000</td>\n",
       "      <td>11.100000</td>\n",
       "      <td>14.90000</td>\n",
       "    </tr>\n",
       "    <tr>\n",
       "      <th>quality</th>\n",
       "      <td>1599.0</td>\n",
       "      <td>2.636023</td>\n",
       "      <td>0.807569</td>\n",
       "      <td>0.00000</td>\n",
       "      <td>2.0000</td>\n",
       "      <td>3.00000</td>\n",
       "      <td>3.000000</td>\n",
       "      <td>5.00000</td>\n",
       "    </tr>\n",
       "  </tbody>\n",
       "</table>\n",
       "</div>"
      ],
      "text/plain": [
       "                       count       mean        std      min      25%  \\\n",
       "fixed acidity         1599.0   8.319637   1.741096  4.60000   7.1000   \n",
       "volatile acidity      1599.0   0.527821   0.179060  0.12000   0.3900   \n",
       "citric acid           1599.0   0.270976   0.194801  0.00000   0.0900   \n",
       "residual sugar        1599.0   2.538806   1.409928  0.90000   1.9000   \n",
       "chlorides             1599.0   0.087467   0.047065  0.01200   0.0700   \n",
       "free sulfur dioxide   1599.0  15.874922  10.460157  1.00000   7.0000   \n",
       "total sulfur dioxide  1599.0  46.467792  32.895324  6.00000  22.0000   \n",
       "density               1599.0   0.996747   0.001887  0.99007   0.9956   \n",
       "pH                    1599.0   3.311113   0.154386  2.74000   3.2100   \n",
       "sulphates             1599.0   0.658149   0.169507  0.33000   0.5500   \n",
       "alcohol               1599.0  10.422983   1.065668  8.40000   9.5000   \n",
       "quality               1599.0   2.636023   0.807569  0.00000   2.0000   \n",
       "\n",
       "                           50%        75%        max  \n",
       "fixed acidity          7.90000   9.200000   15.90000  \n",
       "volatile acidity       0.52000   0.640000    1.58000  \n",
       "citric acid            0.26000   0.420000    1.00000  \n",
       "residual sugar         2.20000   2.600000   15.50000  \n",
       "chlorides              0.07900   0.090000    0.61100  \n",
       "free sulfur dioxide   14.00000  21.000000   72.00000  \n",
       "total sulfur dioxide  38.00000  62.000000  289.00000  \n",
       "density                0.99675   0.997835    1.00369  \n",
       "pH                     3.31000   3.400000    4.01000  \n",
       "sulphates              0.62000   0.730000    2.00000  \n",
       "alcohol               10.20000  11.100000   14.90000  \n",
       "quality                3.00000   3.000000    5.00000  "
      ]
     },
     "execution_count": 16,
     "metadata": {},
     "output_type": "execute_result"
    }
   ],
   "source": [
    "df.describe().T"
   ]
  },
  {
   "cell_type": "markdown",
   "id": "019f422c",
   "metadata": {},
   "source": [
    "### Observations: \n",
    "* Residual sugar is right skewed and has outliers\n",
    "* Free sulfur dioxide is right skewed and has outliers\n",
    "* total sulfur dioxide is right skewed and has outliers\n",
    "* density and pH are normally distributed\n"
   ]
  },
  {
   "cell_type": "code",
   "execution_count": 17,
   "id": "ab86264a",
   "metadata": {},
   "outputs": [],
   "source": [
    "X = df.iloc[:,:-1]\n",
    "y = df.iloc[:,-1]"
   ]
  },
  {
   "cell_type": "code",
   "execution_count": 18,
   "id": "0750f2cc",
   "metadata": {},
   "outputs": [
    {
     "data": {
      "text/plain": [
       "2    681\n",
       "3    638\n",
       "4    199\n",
       "1     53\n",
       "5     18\n",
       "0     10\n",
       "Name: quality, dtype: int64"
      ]
     },
     "execution_count": 18,
     "metadata": {},
     "output_type": "execute_result"
    }
   ],
   "source": [
    "y.value_counts()"
   ]
  },
  {
   "cell_type": "code",
   "execution_count": 19,
   "id": "39a2d79e",
   "metadata": {},
   "outputs": [],
   "source": [
    "from sklearn.linear_model import LogisticRegression\n",
    "from sklearn.tree import DecisionTreeClassifier\n",
    "from sklearn.ensemble import RandomForestClassifier\n",
    "\n",
    "from sklearn.model_selection import cross_val_score\n",
    "from sklearn.metrics import accuracy_score, classification_report, confusion_matrix, ConfusionMatrixDisplay, \\\n",
    "                            precision_score, recall_score, f1_score, roc_auc_score\n",
    "\n",
    "from sklearn.model_selection import cross_val_score\n",
    "from sklearn.metrics import log_loss"
   ]
  },
  {
   "cell_type": "markdown",
   "id": "47695b95",
   "metadata": {},
   "source": [
    "### Let's first try with classifiers with their default parameters"
   ]
  },
  {
   "cell_type": "code",
   "execution_count": 20,
   "id": "e3e535b3",
   "metadata": {},
   "outputs": [
    {
     "data": {
      "text/html": [
       "<div>\n",
       "<style scoped>\n",
       "    .dataframe tbody tr th:only-of-type {\n",
       "        vertical-align: middle;\n",
       "    }\n",
       "\n",
       "    .dataframe tbody tr th {\n",
       "        vertical-align: top;\n",
       "    }\n",
       "\n",
       "    .dataframe thead th {\n",
       "        text-align: right;\n",
       "    }\n",
       "</style>\n",
       "<table border=\"1\" class=\"dataframe\">\n",
       "  <thead>\n",
       "    <tr style=\"text-align: right;\">\n",
       "      <th></th>\n",
       "      <th>LR</th>\n",
       "      <th>DT</th>\n",
       "      <th>RF</th>\n",
       "      <th>LR_balanced</th>\n",
       "      <th>DT_balanced</th>\n",
       "      <th>RF_balanced</th>\n",
       "      <th>LR_SMOTE</th>\n",
       "      <th>DT_SMOTE</th>\n",
       "      <th>RF_SMOTE</th>\n",
       "    </tr>\n",
       "  </thead>\n",
       "  <tbody>\n",
       "    <tr>\n",
       "      <th>Train_score</th>\n",
       "      <td>NaN</td>\n",
       "      <td>NaN</td>\n",
       "      <td>NaN</td>\n",
       "      <td>NaN</td>\n",
       "      <td>NaN</td>\n",
       "      <td>NaN</td>\n",
       "      <td>NaN</td>\n",
       "      <td>NaN</td>\n",
       "      <td>NaN</td>\n",
       "    </tr>\n",
       "    <tr>\n",
       "      <th>Test_score</th>\n",
       "      <td>NaN</td>\n",
       "      <td>NaN</td>\n",
       "      <td>NaN</td>\n",
       "      <td>NaN</td>\n",
       "      <td>NaN</td>\n",
       "      <td>NaN</td>\n",
       "      <td>NaN</td>\n",
       "      <td>NaN</td>\n",
       "      <td>NaN</td>\n",
       "    </tr>\n",
       "    <tr>\n",
       "      <th>CV_score</th>\n",
       "      <td>NaN</td>\n",
       "      <td>NaN</td>\n",
       "      <td>NaN</td>\n",
       "      <td>NaN</td>\n",
       "      <td>NaN</td>\n",
       "      <td>NaN</td>\n",
       "      <td>NaN</td>\n",
       "      <td>NaN</td>\n",
       "      <td>NaN</td>\n",
       "    </tr>\n",
       "    <tr>\n",
       "      <th>accuracy</th>\n",
       "      <td>NaN</td>\n",
       "      <td>NaN</td>\n",
       "      <td>NaN</td>\n",
       "      <td>NaN</td>\n",
       "      <td>NaN</td>\n",
       "      <td>NaN</td>\n",
       "      <td>NaN</td>\n",
       "      <td>NaN</td>\n",
       "      <td>NaN</td>\n",
       "    </tr>\n",
       "    <tr>\n",
       "      <th>precision</th>\n",
       "      <td>NaN</td>\n",
       "      <td>NaN</td>\n",
       "      <td>NaN</td>\n",
       "      <td>NaN</td>\n",
       "      <td>NaN</td>\n",
       "      <td>NaN</td>\n",
       "      <td>NaN</td>\n",
       "      <td>NaN</td>\n",
       "      <td>NaN</td>\n",
       "    </tr>\n",
       "    <tr>\n",
       "      <th>recall</th>\n",
       "      <td>NaN</td>\n",
       "      <td>NaN</td>\n",
       "      <td>NaN</td>\n",
       "      <td>NaN</td>\n",
       "      <td>NaN</td>\n",
       "      <td>NaN</td>\n",
       "      <td>NaN</td>\n",
       "      <td>NaN</td>\n",
       "      <td>NaN</td>\n",
       "    </tr>\n",
       "    <tr>\n",
       "      <th>f1_Score</th>\n",
       "      <td>NaN</td>\n",
       "      <td>NaN</td>\n",
       "      <td>NaN</td>\n",
       "      <td>NaN</td>\n",
       "      <td>NaN</td>\n",
       "      <td>NaN</td>\n",
       "      <td>NaN</td>\n",
       "      <td>NaN</td>\n",
       "      <td>NaN</td>\n",
       "    </tr>\n",
       "    <tr>\n",
       "      <th>roc_auc</th>\n",
       "      <td>NaN</td>\n",
       "      <td>NaN</td>\n",
       "      <td>NaN</td>\n",
       "      <td>NaN</td>\n",
       "      <td>NaN</td>\n",
       "      <td>NaN</td>\n",
       "      <td>NaN</td>\n",
       "      <td>NaN</td>\n",
       "      <td>NaN</td>\n",
       "    </tr>\n",
       "    <tr>\n",
       "      <th>log_loss</th>\n",
       "      <td>NaN</td>\n",
       "      <td>NaN</td>\n",
       "      <td>NaN</td>\n",
       "      <td>NaN</td>\n",
       "      <td>NaN</td>\n",
       "      <td>NaN</td>\n",
       "      <td>NaN</td>\n",
       "      <td>NaN</td>\n",
       "      <td>NaN</td>\n",
       "    </tr>\n",
       "  </tbody>\n",
       "</table>\n",
       "</div>"
      ],
      "text/plain": [
       "              LR   DT   RF LR_balanced DT_balanced RF_balanced LR_SMOTE  \\\n",
       "Train_score  NaN  NaN  NaN         NaN         NaN         NaN      NaN   \n",
       "Test_score   NaN  NaN  NaN         NaN         NaN         NaN      NaN   \n",
       "CV_score     NaN  NaN  NaN         NaN         NaN         NaN      NaN   \n",
       "accuracy     NaN  NaN  NaN         NaN         NaN         NaN      NaN   \n",
       "precision    NaN  NaN  NaN         NaN         NaN         NaN      NaN   \n",
       "recall       NaN  NaN  NaN         NaN         NaN         NaN      NaN   \n",
       "f1_Score     NaN  NaN  NaN         NaN         NaN         NaN      NaN   \n",
       "roc_auc      NaN  NaN  NaN         NaN         NaN         NaN      NaN   \n",
       "log_loss     NaN  NaN  NaN         NaN         NaN         NaN      NaN   \n",
       "\n",
       "            DT_SMOTE RF_SMOTE  \n",
       "Train_score      NaN      NaN  \n",
       "Test_score       NaN      NaN  \n",
       "CV_score         NaN      NaN  \n",
       "accuracy         NaN      NaN  \n",
       "precision        NaN      NaN  \n",
       "recall           NaN      NaN  \n",
       "f1_Score         NaN      NaN  \n",
       "roc_auc          NaN      NaN  \n",
       "log_loss         NaN      NaN  "
      ]
     },
     "execution_count": 20,
     "metadata": {},
     "output_type": "execute_result"
    }
   ],
   "source": [
    "metrics = pd.DataFrame(index=['Train_score', 'Test_score','CV_score', 'accuracy', \n",
    "                              'precision', 'recall', 'f1_Score', 'roc_auc', 'log_loss'],\n",
    "                       columns=['LR', 'DT', 'RF',\n",
    "                                'LR_balanced', 'DT_balanced', 'RF_balanced',\n",
    "                                'LR_SMOTE', 'DT_SMOTE', 'RF_SMOTE'])\n",
    "metrics"
   ]
  },
  {
   "cell_type": "code",
   "execution_count": 21,
   "id": "45a0270a",
   "metadata": {},
   "outputs": [
    {
     "data": {
      "text/plain": [
       "[('LR', LogisticRegression()),\n",
       " ('DT', DecisionTreeClassifier()),\n",
       " ('RF', RandomForestClassifier())]"
      ]
     },
     "execution_count": 21,
     "metadata": {},
     "output_type": "execute_result"
    }
   ],
   "source": [
    "models = []\n",
    "\n",
    "models.append(('LR',LogisticRegression()))\n",
    "models.append(('DT',DecisionTreeClassifier()))\n",
    "models.append(('RF',RandomForestClassifier()))\n",
    "models"
   ]
  },
  {
   "cell_type": "code",
   "execution_count": 22,
   "id": "f9f9c3de",
   "metadata": {},
   "outputs": [],
   "source": [
    "from sklearn.model_selection import train_test_split\n",
    "X_train, X_test, y_train, y_test = train_test_split(X,y, test_size=0.2, random_state=42)"
   ]
  },
  {
   "cell_type": "code",
   "execution_count": 23,
   "id": "19ab8489",
   "metadata": {},
   "outputs": [
    {
     "data": {
      "text/plain": [
       "((1599, 11), (1599,))"
      ]
     },
     "execution_count": 23,
     "metadata": {},
     "output_type": "execute_result"
    }
   ],
   "source": [
    "X.shape, y.shape"
   ]
  },
  {
   "cell_type": "code",
   "execution_count": 24,
   "id": "4eb31e1f",
   "metadata": {},
   "outputs": [
    {
     "data": {
      "text/plain": [
       "2    681\n",
       "3    638\n",
       "4    199\n",
       "1     53\n",
       "5     18\n",
       "0     10\n",
       "Name: quality, dtype: int64"
      ]
     },
     "execution_count": 24,
     "metadata": {},
     "output_type": "execute_result"
    }
   ],
   "source": [
    "y.value_counts()"
   ]
  },
  {
   "cell_type": "code",
   "execution_count": 25,
   "id": "e2577077",
   "metadata": {},
   "outputs": [],
   "source": [
    "from sklearn.preprocessing import RobustScaler\n",
    "\n",
    "scaler = RobustScaler()\n",
    "X_train = scaler.fit_transform(X_train)\n",
    "X_test = scaler.transform(X_test)"
   ]
  },
  {
   "cell_type": "code",
   "execution_count": 26,
   "id": "d76ec9bb",
   "metadata": {},
   "outputs": [],
   "source": [
    "def evalutate_model(model_list):\n",
    "    \n",
    "    for name, model in models:\n",
    "        model.fit(X_train, y_train)\n",
    "        \n",
    "        y_train_pred = model.predict(X_train)\n",
    "        y_test_pred = model.predict(X_test)\n",
    "\n",
    "        train_score = f1_score(y_train, y_train_pred, average=\"weighted\")\n",
    "        metrics.loc['Train_score', name] = round(train_score*100,2)\n",
    "\n",
    "        test_score = f1_score(y_test, y_test_pred, average=\"weighted\")\n",
    "        metrics.loc['Test_score', name] = round(test_score*100,2)\n",
    "\n",
    "        cv_result = cross_val_score(model, X_train, y_train, cv = 3, scoring ='f1_weighted')\n",
    "        print(f\"{name:{13}} {cv_result} {cv_result.mean():{18}} {cv_result.std():{18}}\")\n",
    "        metrics.loc['CV_score', name] = round(cv_result.mean()*100,2)\n",
    "        \n",
    "        accuracy = accuracy_score(y_test, y_test_pred)\n",
    "        metrics.loc['accuracy', name] = round(accuracy*100,2)\n",
    "\n",
    "        precision = precision_score(y_test, y_test_pred, average=\"weighted\")\n",
    "        metrics.loc['precision', name] = round(precision*100,2)\n",
    "\n",
    "        recall = recall_score(y_test, y_test_pred, average=\"weighted\")\n",
    "        metrics.loc['recall', name] = round(recall*100,2)\n",
    "\n",
    "        f1_Score = f1_score(y_test, y_test_pred, average=\"weighted\")\n",
    "        metrics.loc['f1_Score', name] = round(f1_Score*100,2)\n",
    "\n",
    "\n",
    "        # Probablities based scores\n",
    "        y_preb_probs = model.predict_proba(X_test)\n",
    "\n",
    "        roc_auc = roc_auc_score(y_test, y_preb_probs, average=\"weighted\", multi_class=\"ovr\")\n",
    "        metrics.loc['roc_auc', name] = round(roc_auc*100,2)\n",
    "\n",
    "        logloss = log_loss(y_test, y_preb_probs)\n",
    "        metrics.loc['log_loss', name] = logloss\n",
    "\n",
    "    return metrics"
   ]
  },
  {
   "cell_type": "code",
   "execution_count": 27,
   "id": "d6a0a603",
   "metadata": {},
   "outputs": [
    {
     "name": "stdout",
     "output_type": "stream",
     "text": [
      "LR            [0.5631693  0.54264035 0.61322337] 0.5730110070344558 0.02964383247645535\n",
      "DT            [0.55715851 0.55723397 0.58999841]  0.568130297151557 0.01546312501301055\n",
      "RF            [0.62549721 0.61285273 0.66948086] 0.6359436011662888 0.024269756857880607\n"
     ]
    },
    {
     "data": {
      "text/html": [
       "<div>\n",
       "<style scoped>\n",
       "    .dataframe tbody tr th:only-of-type {\n",
       "        vertical-align: middle;\n",
       "    }\n",
       "\n",
       "    .dataframe tbody tr th {\n",
       "        vertical-align: top;\n",
       "    }\n",
       "\n",
       "    .dataframe thead th {\n",
       "        text-align: right;\n",
       "    }\n",
       "</style>\n",
       "<table border=\"1\" class=\"dataframe\">\n",
       "  <thead>\n",
       "    <tr style=\"text-align: right;\">\n",
       "      <th></th>\n",
       "      <th>LR</th>\n",
       "      <th>DT</th>\n",
       "      <th>RF</th>\n",
       "      <th>LR_balanced</th>\n",
       "      <th>DT_balanced</th>\n",
       "      <th>RF_balanced</th>\n",
       "      <th>LR_SMOTE</th>\n",
       "      <th>DT_SMOTE</th>\n",
       "      <th>RF_SMOTE</th>\n",
       "    </tr>\n",
       "  </thead>\n",
       "  <tbody>\n",
       "    <tr>\n",
       "      <th>Train_score</th>\n",
       "      <td>59.77</td>\n",
       "      <td>100.0</td>\n",
       "      <td>100.0</td>\n",
       "      <td>NaN</td>\n",
       "      <td>NaN</td>\n",
       "      <td>NaN</td>\n",
       "      <td>NaN</td>\n",
       "      <td>NaN</td>\n",
       "      <td>NaN</td>\n",
       "    </tr>\n",
       "    <tr>\n",
       "      <th>Test_score</th>\n",
       "      <td>54.67</td>\n",
       "      <td>57.62</td>\n",
       "      <td>65.67</td>\n",
       "      <td>NaN</td>\n",
       "      <td>NaN</td>\n",
       "      <td>NaN</td>\n",
       "      <td>NaN</td>\n",
       "      <td>NaN</td>\n",
       "      <td>NaN</td>\n",
       "    </tr>\n",
       "    <tr>\n",
       "      <th>CV_score</th>\n",
       "      <td>57.3</td>\n",
       "      <td>56.81</td>\n",
       "      <td>63.59</td>\n",
       "      <td>NaN</td>\n",
       "      <td>NaN</td>\n",
       "      <td>NaN</td>\n",
       "      <td>NaN</td>\n",
       "      <td>NaN</td>\n",
       "      <td>NaN</td>\n",
       "    </tr>\n",
       "    <tr>\n",
       "      <th>accuracy</th>\n",
       "      <td>57.19</td>\n",
       "      <td>58.13</td>\n",
       "      <td>67.5</td>\n",
       "      <td>NaN</td>\n",
       "      <td>NaN</td>\n",
       "      <td>NaN</td>\n",
       "      <td>NaN</td>\n",
       "      <td>NaN</td>\n",
       "      <td>NaN</td>\n",
       "    </tr>\n",
       "    <tr>\n",
       "      <th>precision</th>\n",
       "      <td>55.66</td>\n",
       "      <td>57.2</td>\n",
       "      <td>64.32</td>\n",
       "      <td>NaN</td>\n",
       "      <td>NaN</td>\n",
       "      <td>NaN</td>\n",
       "      <td>NaN</td>\n",
       "      <td>NaN</td>\n",
       "      <td>NaN</td>\n",
       "    </tr>\n",
       "    <tr>\n",
       "      <th>recall</th>\n",
       "      <td>57.19</td>\n",
       "      <td>58.13</td>\n",
       "      <td>67.5</td>\n",
       "      <td>NaN</td>\n",
       "      <td>NaN</td>\n",
       "      <td>NaN</td>\n",
       "      <td>NaN</td>\n",
       "      <td>NaN</td>\n",
       "      <td>NaN</td>\n",
       "    </tr>\n",
       "    <tr>\n",
       "      <th>f1_Score</th>\n",
       "      <td>54.67</td>\n",
       "      <td>57.62</td>\n",
       "      <td>65.67</td>\n",
       "      <td>NaN</td>\n",
       "      <td>NaN</td>\n",
       "      <td>NaN</td>\n",
       "      <td>NaN</td>\n",
       "      <td>NaN</td>\n",
       "      <td>NaN</td>\n",
       "    </tr>\n",
       "    <tr>\n",
       "      <th>roc_auc</th>\n",
       "      <td>75.5</td>\n",
       "      <td>67.15</td>\n",
       "      <td>85.14</td>\n",
       "      <td>NaN</td>\n",
       "      <td>NaN</td>\n",
       "      <td>NaN</td>\n",
       "      <td>NaN</td>\n",
       "      <td>NaN</td>\n",
       "      <td>NaN</td>\n",
       "    </tr>\n",
       "    <tr>\n",
       "      <th>log_loss</th>\n",
       "      <td>0.929404</td>\n",
       "      <td>14.463113</td>\n",
       "      <td>0.958124</td>\n",
       "      <td>NaN</td>\n",
       "      <td>NaN</td>\n",
       "      <td>NaN</td>\n",
       "      <td>NaN</td>\n",
       "      <td>NaN</td>\n",
       "      <td>NaN</td>\n",
       "    </tr>\n",
       "  </tbody>\n",
       "</table>\n",
       "</div>"
      ],
      "text/plain": [
       "                   LR         DT        RF LR_balanced DT_balanced  \\\n",
       "Train_score     59.77      100.0     100.0         NaN         NaN   \n",
       "Test_score      54.67      57.62     65.67         NaN         NaN   \n",
       "CV_score         57.3      56.81     63.59         NaN         NaN   \n",
       "accuracy        57.19      58.13      67.5         NaN         NaN   \n",
       "precision       55.66       57.2     64.32         NaN         NaN   \n",
       "recall          57.19      58.13      67.5         NaN         NaN   \n",
       "f1_Score        54.67      57.62     65.67         NaN         NaN   \n",
       "roc_auc          75.5      67.15     85.14         NaN         NaN   \n",
       "log_loss     0.929404  14.463113  0.958124         NaN         NaN   \n",
       "\n",
       "            RF_balanced LR_SMOTE DT_SMOTE RF_SMOTE  \n",
       "Train_score         NaN      NaN      NaN      NaN  \n",
       "Test_score          NaN      NaN      NaN      NaN  \n",
       "CV_score            NaN      NaN      NaN      NaN  \n",
       "accuracy            NaN      NaN      NaN      NaN  \n",
       "precision           NaN      NaN      NaN      NaN  \n",
       "recall              NaN      NaN      NaN      NaN  \n",
       "f1_Score            NaN      NaN      NaN      NaN  \n",
       "roc_auc             NaN      NaN      NaN      NaN  \n",
       "log_loss            NaN      NaN      NaN      NaN  "
      ]
     },
     "execution_count": 27,
     "metadata": {},
     "output_type": "execute_result"
    }
   ],
   "source": [
    "evalutate_model(model_list = \"models\")"
   ]
  },
  {
   "cell_type": "markdown",
   "id": "c4f07c0a",
   "metadata": {},
   "source": [
    "### By using class_weight='balanced' parameter"
   ]
  },
  {
   "cell_type": "code",
   "execution_count": 28,
   "id": "a16c235c",
   "metadata": {},
   "outputs": [
    {
     "data": {
      "text/plain": [
       "[('LR_balanced', LogisticRegression(class_weight='balanced')),\n",
       " ('DT_balanced', DecisionTreeClassifier(class_weight='balanced')),\n",
       " ('RF_balanced', RandomForestClassifier(class_weight='balanced'))]"
      ]
     },
     "execution_count": 28,
     "metadata": {},
     "output_type": "execute_result"
    }
   ],
   "source": [
    "models = []\n",
    "\n",
    "models.append(('LR_balanced', LogisticRegression(class_weight='balanced')))\n",
    "models.append(('DT_balanced', DecisionTreeClassifier(class_weight='balanced')))\n",
    "models.append(('RF_balanced', RandomForestClassifier(class_weight='balanced')))\n",
    "models"
   ]
  },
  {
   "cell_type": "code",
   "execution_count": 29,
   "id": "d260383f",
   "metadata": {},
   "outputs": [
    {
     "name": "stdout",
     "output_type": "stream",
     "text": [
      "LR_balanced   [0.43285275 0.41801443 0.47404921]  0.441638795209738 0.023704711402410466\n",
      "DT_balanced   [0.52825025 0.59509655 0.56031738] 0.5612213945882027 0.027297370742198644\n",
      "RF_balanced   [0.61197925 0.60883756 0.67266652] 0.6311611100960683 0.029376772376204115\n"
     ]
    },
    {
     "data": {
      "text/html": [
       "<div>\n",
       "<style scoped>\n",
       "    .dataframe tbody tr th:only-of-type {\n",
       "        vertical-align: middle;\n",
       "    }\n",
       "\n",
       "    .dataframe tbody tr th {\n",
       "        vertical-align: top;\n",
       "    }\n",
       "\n",
       "    .dataframe thead th {\n",
       "        text-align: right;\n",
       "    }\n",
       "</style>\n",
       "<table border=\"1\" class=\"dataframe\">\n",
       "  <thead>\n",
       "    <tr style=\"text-align: right;\">\n",
       "      <th></th>\n",
       "      <th>LR</th>\n",
       "      <th>DT</th>\n",
       "      <th>RF</th>\n",
       "      <th>LR_balanced</th>\n",
       "      <th>DT_balanced</th>\n",
       "      <th>RF_balanced</th>\n",
       "      <th>LR_SMOTE</th>\n",
       "      <th>DT_SMOTE</th>\n",
       "      <th>RF_SMOTE</th>\n",
       "    </tr>\n",
       "  </thead>\n",
       "  <tbody>\n",
       "    <tr>\n",
       "      <th>Train_score</th>\n",
       "      <td>59.77</td>\n",
       "      <td>100.0</td>\n",
       "      <td>100.0</td>\n",
       "      <td>47.25</td>\n",
       "      <td>100.0</td>\n",
       "      <td>100.0</td>\n",
       "      <td>NaN</td>\n",
       "      <td>NaN</td>\n",
       "      <td>NaN</td>\n",
       "    </tr>\n",
       "    <tr>\n",
       "      <th>Test_score</th>\n",
       "      <td>54.67</td>\n",
       "      <td>57.62</td>\n",
       "      <td>65.67</td>\n",
       "      <td>48.74</td>\n",
       "      <td>60.19</td>\n",
       "      <td>65.57</td>\n",
       "      <td>NaN</td>\n",
       "      <td>NaN</td>\n",
       "      <td>NaN</td>\n",
       "    </tr>\n",
       "    <tr>\n",
       "      <th>CV_score</th>\n",
       "      <td>57.3</td>\n",
       "      <td>56.81</td>\n",
       "      <td>63.59</td>\n",
       "      <td>44.16</td>\n",
       "      <td>56.12</td>\n",
       "      <td>63.12</td>\n",
       "      <td>NaN</td>\n",
       "      <td>NaN</td>\n",
       "      <td>NaN</td>\n",
       "    </tr>\n",
       "    <tr>\n",
       "      <th>accuracy</th>\n",
       "      <td>57.19</td>\n",
       "      <td>58.13</td>\n",
       "      <td>67.5</td>\n",
       "      <td>43.75</td>\n",
       "      <td>59.69</td>\n",
       "      <td>67.5</td>\n",
       "      <td>NaN</td>\n",
       "      <td>NaN</td>\n",
       "      <td>NaN</td>\n",
       "    </tr>\n",
       "    <tr>\n",
       "      <th>precision</th>\n",
       "      <td>55.66</td>\n",
       "      <td>57.2</td>\n",
       "      <td>64.32</td>\n",
       "      <td>60.71</td>\n",
       "      <td>61.16</td>\n",
       "      <td>64.26</td>\n",
       "      <td>NaN</td>\n",
       "      <td>NaN</td>\n",
       "      <td>NaN</td>\n",
       "    </tr>\n",
       "    <tr>\n",
       "      <th>recall</th>\n",
       "      <td>57.19</td>\n",
       "      <td>58.13</td>\n",
       "      <td>67.5</td>\n",
       "      <td>43.75</td>\n",
       "      <td>59.69</td>\n",
       "      <td>67.5</td>\n",
       "      <td>NaN</td>\n",
       "      <td>NaN</td>\n",
       "      <td>NaN</td>\n",
       "    </tr>\n",
       "    <tr>\n",
       "      <th>f1_Score</th>\n",
       "      <td>54.67</td>\n",
       "      <td>57.62</td>\n",
       "      <td>65.67</td>\n",
       "      <td>48.74</td>\n",
       "      <td>60.19</td>\n",
       "      <td>65.57</td>\n",
       "      <td>NaN</td>\n",
       "      <td>NaN</td>\n",
       "      <td>NaN</td>\n",
       "    </tr>\n",
       "    <tr>\n",
       "      <th>roc_auc</th>\n",
       "      <td>75.5</td>\n",
       "      <td>67.15</td>\n",
       "      <td>85.14</td>\n",
       "      <td>73.33</td>\n",
       "      <td>69.42</td>\n",
       "      <td>85.78</td>\n",
       "      <td>NaN</td>\n",
       "      <td>NaN</td>\n",
       "      <td>NaN</td>\n",
       "    </tr>\n",
       "    <tr>\n",
       "      <th>log_loss</th>\n",
       "      <td>0.929404</td>\n",
       "      <td>14.463113</td>\n",
       "      <td>0.958124</td>\n",
       "      <td>1.338608</td>\n",
       "      <td>13.923444</td>\n",
       "      <td>0.857629</td>\n",
       "      <td>NaN</td>\n",
       "      <td>NaN</td>\n",
       "      <td>NaN</td>\n",
       "    </tr>\n",
       "  </tbody>\n",
       "</table>\n",
       "</div>"
      ],
      "text/plain": [
       "                   LR         DT        RF LR_balanced DT_balanced  \\\n",
       "Train_score     59.77      100.0     100.0       47.25       100.0   \n",
       "Test_score      54.67      57.62     65.67       48.74       60.19   \n",
       "CV_score         57.3      56.81     63.59       44.16       56.12   \n",
       "accuracy        57.19      58.13      67.5       43.75       59.69   \n",
       "precision       55.66       57.2     64.32       60.71       61.16   \n",
       "recall          57.19      58.13      67.5       43.75       59.69   \n",
       "f1_Score        54.67      57.62     65.67       48.74       60.19   \n",
       "roc_auc          75.5      67.15     85.14       73.33       69.42   \n",
       "log_loss     0.929404  14.463113  0.958124    1.338608   13.923444   \n",
       "\n",
       "            RF_balanced LR_SMOTE DT_SMOTE RF_SMOTE  \n",
       "Train_score       100.0      NaN      NaN      NaN  \n",
       "Test_score        65.57      NaN      NaN      NaN  \n",
       "CV_score          63.12      NaN      NaN      NaN  \n",
       "accuracy           67.5      NaN      NaN      NaN  \n",
       "precision         64.26      NaN      NaN      NaN  \n",
       "recall             67.5      NaN      NaN      NaN  \n",
       "f1_Score          65.57      NaN      NaN      NaN  \n",
       "roc_auc           85.78      NaN      NaN      NaN  \n",
       "log_loss       0.857629      NaN      NaN      NaN  "
      ]
     },
     "execution_count": 29,
     "metadata": {},
     "output_type": "execute_result"
    }
   ],
   "source": [
    "evalutate_model(model_list = \"models\")"
   ]
  },
  {
   "cell_type": "markdown",
   "id": "7acdeef5",
   "metadata": {},
   "source": [
    "### By using SMOTE"
   ]
  },
  {
   "cell_type": "code",
   "execution_count": 30,
   "id": "6e4274d6",
   "metadata": {},
   "outputs": [],
   "source": [
    "from imblearn.combine import SMOTETomek\n",
    "from imblearn.under_sampling import TomekLinks\n",
    "\n",
    "smote = SMOTETomek(tomek=TomekLinks(sampling_strategy='majority'))\n",
    "\n",
    "x_smote, y_smote = smote.fit_resample(X,y)"
   ]
  },
  {
   "cell_type": "code",
   "execution_count": 31,
   "id": "be5e3cf8",
   "metadata": {},
   "outputs": [
    {
     "data": {
      "text/plain": [
       "((4078, 11), (4078,))"
      ]
     },
     "execution_count": 31,
     "metadata": {},
     "output_type": "execute_result"
    }
   ],
   "source": [
    "x_smote.shape, y_smote.shape"
   ]
  },
  {
   "cell_type": "code",
   "execution_count": 32,
   "id": "1d7c22a5",
   "metadata": {},
   "outputs": [
    {
     "data": {
      "text/plain": [
       "2    681\n",
       "3    681\n",
       "4    681\n",
       "1    681\n",
       "5    681\n",
       "0    673\n",
       "Name: quality, dtype: int64"
      ]
     },
     "execution_count": 32,
     "metadata": {},
     "output_type": "execute_result"
    }
   ],
   "source": [
    "y_smote.value_counts()"
   ]
  },
  {
   "cell_type": "code",
   "execution_count": 33,
   "id": "58a1f5eb",
   "metadata": {},
   "outputs": [],
   "source": [
    "# <img src=\"SMOTE.PNG\">"
   ]
  },
  {
   "cell_type": "code",
   "execution_count": 34,
   "id": "b2688284",
   "metadata": {},
   "outputs": [],
   "source": [
    "from sklearn.model_selection import train_test_split\n",
    "X_train, X_test, y_train, y_test = train_test_split(x_smote,y_smote, test_size=.2, random_state=42)"
   ]
  },
  {
   "cell_type": "code",
   "execution_count": 35,
   "id": "16801c1f",
   "metadata": {},
   "outputs": [],
   "source": [
    "from sklearn.preprocessing import RobustScaler\n",
    "\n",
    "scaler = RobustScaler()\n",
    "X_train = scaler.fit_transform(X_train)\n",
    "X_test = scaler.transform(X_test)"
   ]
  },
  {
   "cell_type": "code",
   "execution_count": 36,
   "id": "6a8c32c9",
   "metadata": {},
   "outputs": [
    {
     "data": {
      "text/plain": [
       "[('LR_SMOTE', LogisticRegression()),\n",
       " ('DT_SMOTE', DecisionTreeClassifier()),\n",
       " ('RF_SMOTE', RandomForestClassifier())]"
      ]
     },
     "execution_count": 36,
     "metadata": {},
     "output_type": "execute_result"
    }
   ],
   "source": [
    "models = []\n",
    "\n",
    "models.append(('LR_SMOTE',LogisticRegression()))\n",
    "models.append(('DT_SMOTE',DecisionTreeClassifier()))\n",
    "models.append(('RF_SMOTE',RandomForestClassifier()))\n",
    "models"
   ]
  },
  {
   "cell_type": "code",
   "execution_count": 37,
   "id": "d3daed3a",
   "metadata": {},
   "outputs": [
    {
     "name": "stdout",
     "output_type": "stream",
     "text": [
      "LR_SMOTE      [0.57210337 0.57696509 0.58198508] 0.5770178470462631 0.00403436479918032\n",
      "DT_SMOTE      [0.76693767 0.77533312 0.75074497] 0.7643385878423329 0.010204927585432165\n",
      "RF_SMOTE      [0.81970562 0.83803898 0.84165438] 0.8331329931913994 0.009608629195457201\n"
     ]
    },
    {
     "data": {
      "text/html": [
       "<div>\n",
       "<style scoped>\n",
       "    .dataframe tbody tr th:only-of-type {\n",
       "        vertical-align: middle;\n",
       "    }\n",
       "\n",
       "    .dataframe tbody tr th {\n",
       "        vertical-align: top;\n",
       "    }\n",
       "\n",
       "    .dataframe thead th {\n",
       "        text-align: right;\n",
       "    }\n",
       "</style>\n",
       "<table border=\"1\" class=\"dataframe\">\n",
       "  <thead>\n",
       "    <tr style=\"text-align: right;\">\n",
       "      <th></th>\n",
       "      <th>LR</th>\n",
       "      <th>DT</th>\n",
       "      <th>RF</th>\n",
       "      <th>LR_balanced</th>\n",
       "      <th>DT_balanced</th>\n",
       "      <th>RF_balanced</th>\n",
       "      <th>LR_SMOTE</th>\n",
       "      <th>DT_SMOTE</th>\n",
       "      <th>RF_SMOTE</th>\n",
       "    </tr>\n",
       "  </thead>\n",
       "  <tbody>\n",
       "    <tr>\n",
       "      <th>Train_score</th>\n",
       "      <td>59.77</td>\n",
       "      <td>100.0</td>\n",
       "      <td>100.0</td>\n",
       "      <td>47.25</td>\n",
       "      <td>100.0</td>\n",
       "      <td>100.0</td>\n",
       "      <td>58.99</td>\n",
       "      <td>100.0</td>\n",
       "      <td>100.0</td>\n",
       "    </tr>\n",
       "    <tr>\n",
       "      <th>Test_score</th>\n",
       "      <td>54.67</td>\n",
       "      <td>57.62</td>\n",
       "      <td>65.67</td>\n",
       "      <td>48.74</td>\n",
       "      <td>60.19</td>\n",
       "      <td>65.57</td>\n",
       "      <td>58.98</td>\n",
       "      <td>79.27</td>\n",
       "      <td>85.3</td>\n",
       "    </tr>\n",
       "    <tr>\n",
       "      <th>CV_score</th>\n",
       "      <td>57.3</td>\n",
       "      <td>56.81</td>\n",
       "      <td>63.59</td>\n",
       "      <td>44.16</td>\n",
       "      <td>56.12</td>\n",
       "      <td>63.12</td>\n",
       "      <td>57.7</td>\n",
       "      <td>76.43</td>\n",
       "      <td>83.31</td>\n",
       "    </tr>\n",
       "    <tr>\n",
       "      <th>accuracy</th>\n",
       "      <td>57.19</td>\n",
       "      <td>58.13</td>\n",
       "      <td>67.5</td>\n",
       "      <td>43.75</td>\n",
       "      <td>59.69</td>\n",
       "      <td>67.5</td>\n",
       "      <td>60.17</td>\n",
       "      <td>79.66</td>\n",
       "      <td>85.78</td>\n",
       "    </tr>\n",
       "    <tr>\n",
       "      <th>precision</th>\n",
       "      <td>55.66</td>\n",
       "      <td>57.2</td>\n",
       "      <td>64.32</td>\n",
       "      <td>60.71</td>\n",
       "      <td>61.16</td>\n",
       "      <td>64.26</td>\n",
       "      <td>58.66</td>\n",
       "      <td>79.06</td>\n",
       "      <td>85.2</td>\n",
       "    </tr>\n",
       "    <tr>\n",
       "      <th>recall</th>\n",
       "      <td>57.19</td>\n",
       "      <td>58.13</td>\n",
       "      <td>67.5</td>\n",
       "      <td>43.75</td>\n",
       "      <td>59.69</td>\n",
       "      <td>67.5</td>\n",
       "      <td>60.17</td>\n",
       "      <td>79.66</td>\n",
       "      <td>85.78</td>\n",
       "    </tr>\n",
       "    <tr>\n",
       "      <th>f1_Score</th>\n",
       "      <td>54.67</td>\n",
       "      <td>57.62</td>\n",
       "      <td>65.67</td>\n",
       "      <td>48.74</td>\n",
       "      <td>60.19</td>\n",
       "      <td>65.57</td>\n",
       "      <td>58.98</td>\n",
       "      <td>79.27</td>\n",
       "      <td>85.3</td>\n",
       "    </tr>\n",
       "    <tr>\n",
       "      <th>roc_auc</th>\n",
       "      <td>75.5</td>\n",
       "      <td>67.15</td>\n",
       "      <td>85.14</td>\n",
       "      <td>73.33</td>\n",
       "      <td>69.42</td>\n",
       "      <td>85.78</td>\n",
       "      <td>87.93</td>\n",
       "      <td>87.7</td>\n",
       "      <td>97.75</td>\n",
       "    </tr>\n",
       "    <tr>\n",
       "      <th>log_loss</th>\n",
       "      <td>0.929404</td>\n",
       "      <td>14.463113</td>\n",
       "      <td>0.958124</td>\n",
       "      <td>1.338608</td>\n",
       "      <td>13.923444</td>\n",
       "      <td>0.857629</td>\n",
       "      <td>0.988755</td>\n",
       "      <td>7.026271</td>\n",
       "      <td>0.420706</td>\n",
       "    </tr>\n",
       "  </tbody>\n",
       "</table>\n",
       "</div>"
      ],
      "text/plain": [
       "                   LR         DT        RF LR_balanced DT_balanced  \\\n",
       "Train_score     59.77      100.0     100.0       47.25       100.0   \n",
       "Test_score      54.67      57.62     65.67       48.74       60.19   \n",
       "CV_score         57.3      56.81     63.59       44.16       56.12   \n",
       "accuracy        57.19      58.13      67.5       43.75       59.69   \n",
       "precision       55.66       57.2     64.32       60.71       61.16   \n",
       "recall          57.19      58.13      67.5       43.75       59.69   \n",
       "f1_Score        54.67      57.62     65.67       48.74       60.19   \n",
       "roc_auc          75.5      67.15     85.14       73.33       69.42   \n",
       "log_loss     0.929404  14.463113  0.958124    1.338608   13.923444   \n",
       "\n",
       "            RF_balanced  LR_SMOTE  DT_SMOTE  RF_SMOTE  \n",
       "Train_score       100.0     58.99     100.0     100.0  \n",
       "Test_score        65.57     58.98     79.27      85.3  \n",
       "CV_score          63.12      57.7     76.43     83.31  \n",
       "accuracy           67.5     60.17     79.66     85.78  \n",
       "precision         64.26     58.66     79.06      85.2  \n",
       "recall             67.5     60.17     79.66     85.78  \n",
       "f1_Score          65.57     58.98     79.27      85.3  \n",
       "roc_auc           85.78     87.93      87.7     97.75  \n",
       "log_loss       0.857629  0.988755  7.026271  0.420706  "
      ]
     },
     "execution_count": 37,
     "metadata": {},
     "output_type": "execute_result"
    }
   ],
   "source": [
    "evalutate_model(model_list = \"models\")"
   ]
  },
  {
   "cell_type": "markdown",
   "id": "72a28a30",
   "metadata": {},
   "source": [
    "# Fine Tunning"
   ]
  },
  {
   "cell_type": "code",
   "execution_count": 38,
   "id": "ff027f0b",
   "metadata": {},
   "outputs": [],
   "source": [
    "from sklearn.model_selection import GridSearchCV"
   ]
  },
  {
   "cell_type": "code",
   "execution_count": 39,
   "id": "e03dae6d",
   "metadata": {},
   "outputs": [
    {
     "data": {
      "text/html": [
       "<div>\n",
       "<style scoped>\n",
       "    .dataframe tbody tr th:only-of-type {\n",
       "        vertical-align: middle;\n",
       "    }\n",
       "\n",
       "    .dataframe tbody tr th {\n",
       "        vertical-align: top;\n",
       "    }\n",
       "\n",
       "    .dataframe thead th {\n",
       "        text-align: right;\n",
       "    }\n",
       "</style>\n",
       "<table border=\"1\" class=\"dataframe\">\n",
       "  <thead>\n",
       "    <tr style=\"text-align: right;\">\n",
       "      <th></th>\n",
       "      <th>LogisticReg_tuned</th>\n",
       "      <th>DecisionTree_tuned</th>\n",
       "      <th>RandomForest_tuned</th>\n",
       "    </tr>\n",
       "  </thead>\n",
       "  <tbody>\n",
       "    <tr>\n",
       "      <th>Accuracy</th>\n",
       "      <td>NaN</td>\n",
       "      <td>NaN</td>\n",
       "      <td>NaN</td>\n",
       "    </tr>\n",
       "    <tr>\n",
       "      <th>precision</th>\n",
       "      <td>NaN</td>\n",
       "      <td>NaN</td>\n",
       "      <td>NaN</td>\n",
       "    </tr>\n",
       "    <tr>\n",
       "      <th>recall</th>\n",
       "      <td>NaN</td>\n",
       "      <td>NaN</td>\n",
       "      <td>NaN</td>\n",
       "    </tr>\n",
       "    <tr>\n",
       "      <th>f1_score</th>\n",
       "      <td>NaN</td>\n",
       "      <td>NaN</td>\n",
       "      <td>NaN</td>\n",
       "    </tr>\n",
       "    <tr>\n",
       "      <th>roc_auc</th>\n",
       "      <td>NaN</td>\n",
       "      <td>NaN</td>\n",
       "      <td>NaN</td>\n",
       "    </tr>\n",
       "    <tr>\n",
       "      <th>log_loss</th>\n",
       "      <td>NaN</td>\n",
       "      <td>NaN</td>\n",
       "      <td>NaN</td>\n",
       "    </tr>\n",
       "  </tbody>\n",
       "</table>\n",
       "</div>"
      ],
      "text/plain": [
       "          LogisticReg_tuned DecisionTree_tuned RandomForest_tuned\n",
       "Accuracy                NaN                NaN                NaN\n",
       "precision               NaN                NaN                NaN\n",
       "recall                  NaN                NaN                NaN\n",
       "f1_score                NaN                NaN                NaN\n",
       "roc_auc                 NaN                NaN                NaN\n",
       "log_loss                NaN                NaN                NaN"
      ]
     },
     "execution_count": 39,
     "metadata": {},
     "output_type": "execute_result"
    }
   ],
   "source": [
    "tuned_metrics = pd.DataFrame(index=['Accuracy', 'precision', 'recall', 'f1_score', 'roc_auc', 'log_loss'],\n",
    "                               columns=['LogisticReg_tuned', 'DecisionTree_tuned', 'RandomForest_tuned'])\n",
    "                            \n",
    "tuned_metrics"
   ]
  },
  {
   "cell_type": "code",
   "execution_count": 40,
   "id": "df6a3922",
   "metadata": {},
   "outputs": [
    {
     "data": {
      "text/plain": [
       "{'C': 0.9,\n",
       " 'multi_class': 'ovr',\n",
       " 'n_jobs': -1,\n",
       " 'penalty': 'l1',\n",
       " 'solver': 'liblinear'}"
      ]
     },
     "execution_count": 40,
     "metadata": {},
     "output_type": "execute_result"
    }
   ],
   "source": [
    "# Logistic Regression:\n",
    "\n",
    "param_grid = {'solver' : ['liblinear', 'saga',], \n",
    "              'penalty': ['l1', 'l2', 'elasticnet'], \n",
    "              'C': np.arange(.1,1, 0.1),\n",
    "              'multi_class':[\"ovr\"],\n",
    "              'n_jobs': [-1]\n",
    "             }\n",
    "\n",
    "lr_model = GridSearchCV(LogisticRegression(), param_grid, cv =5, scoring='f1_weighted')\n",
    "lr_model.fit(X_train,y_train)\n",
    "lr_model.best_params_\n"
   ]
  },
  {
   "cell_type": "code",
   "execution_count": 41,
   "id": "dd8806c9",
   "metadata": {},
   "outputs": [
    {
     "data": {
      "text/plain": [
       "{'C': 0.9,\n",
       " 'multi_class': 'ovr',\n",
       " 'n_jobs': -1,\n",
       " 'penalty': 'l1',\n",
       " 'solver': 'liblinear'}"
      ]
     },
     "execution_count": 41,
     "metadata": {},
     "output_type": "execute_result"
    }
   ],
   "source": [
    "best_params = lr_model.best_params_\n",
    "best_params"
   ]
  },
  {
   "cell_type": "code",
   "execution_count": 42,
   "id": "c9b33f09",
   "metadata": {},
   "outputs": [
    {
     "data": {
      "text/plain": [
       "\"\\n{'C': 0.9,\\n 'multi_class': 'ovr',\\n 'n_jobs': -1,\\n 'penalty': 'l1',\\n 'solver': 'liblinear'}\\n\""
      ]
     },
     "execution_count": 42,
     "metadata": {},
     "output_type": "execute_result"
    }
   ],
   "source": [
    "\"\"\"\n",
    "{'C': 0.9,\n",
    " 'multi_class': 'ovr',\n",
    " 'n_jobs': -1,\n",
    " 'penalty': 'l1',\n",
    " 'solver': 'liblinear'}\n",
    "\"\"\""
   ]
  },
  {
   "cell_type": "code",
   "execution_count": 43,
   "id": "893d3946",
   "metadata": {},
   "outputs": [
    {
     "data": {
      "text/plain": [
       "0.6130626828412671"
      ]
     },
     "execution_count": 43,
     "metadata": {},
     "output_type": "execute_result"
    }
   ],
   "source": [
    "lr_model = LogisticRegression(**best_params)\n",
    "lr_model.fit(X_train,y_train)\n",
    "y_pred_lr = lr_model.predict(X_test)\n",
    "\n",
    "f1_score(y_pred_lr,y_test, average= 'weighted')"
   ]
  },
  {
   "cell_type": "code",
   "execution_count": 44,
   "id": "13e731d1",
   "metadata": {},
   "outputs": [],
   "source": [
    "def get_performance(model, model_name, y_test, y_pred):\n",
    "    \n",
    "    tuned_metrics.loc['Accuracy' , model_name]   = accuracy_score(y_pred,y_test)\n",
    "    tuned_metrics.loc['f1_score' , model_name]   = f1_score(y_pred,y_test, average= 'weighted')\n",
    "    tuned_metrics.loc['precision' , model_name]  = precision_score(y_pred,y_test, average= 'weighted')\n",
    "    tuned_metrics.loc['recall' , model_name]     = recall_score(y_pred,y_test,average= 'weighted')\n",
    "\n",
    "    y_preb_probs = model.predict_proba(X_test)\n",
    "\n",
    "    roc_auc = roc_auc_score(y_test, y_preb_probs, average=\"weighted\", multi_class=\"ovr\")\n",
    "    tuned_metrics.loc['roc_auc', model_name] = roc_auc\n",
    "\n",
    "    logloss = log_loss(y_test, y_preb_probs)\n",
    "    tuned_metrics.loc['log_loss', model_name] = logloss\n",
    "\n",
    "    return tuned_metrics"
   ]
  },
  {
   "cell_type": "code",
   "execution_count": 45,
   "id": "f7b7b249",
   "metadata": {},
   "outputs": [
    {
     "data": {
      "text/html": [
       "<div>\n",
       "<style scoped>\n",
       "    .dataframe tbody tr th:only-of-type {\n",
       "        vertical-align: middle;\n",
       "    }\n",
       "\n",
       "    .dataframe tbody tr th {\n",
       "        vertical-align: top;\n",
       "    }\n",
       "\n",
       "    .dataframe thead th {\n",
       "        text-align: right;\n",
       "    }\n",
       "</style>\n",
       "<table border=\"1\" class=\"dataframe\">\n",
       "  <thead>\n",
       "    <tr style=\"text-align: right;\">\n",
       "      <th></th>\n",
       "      <th>LogisticReg_tuned</th>\n",
       "      <th>DecisionTree_tuned</th>\n",
       "      <th>RandomForest_tuned</th>\n",
       "    </tr>\n",
       "  </thead>\n",
       "  <tbody>\n",
       "    <tr>\n",
       "      <th>Accuracy</th>\n",
       "      <td>0.589461</td>\n",
       "      <td>NaN</td>\n",
       "      <td>NaN</td>\n",
       "    </tr>\n",
       "    <tr>\n",
       "      <th>precision</th>\n",
       "      <td>0.656494</td>\n",
       "      <td>NaN</td>\n",
       "      <td>NaN</td>\n",
       "    </tr>\n",
       "    <tr>\n",
       "      <th>recall</th>\n",
       "      <td>0.589461</td>\n",
       "      <td>NaN</td>\n",
       "      <td>NaN</td>\n",
       "    </tr>\n",
       "    <tr>\n",
       "      <th>f1_score</th>\n",
       "      <td>0.613063</td>\n",
       "      <td>NaN</td>\n",
       "      <td>NaN</td>\n",
       "    </tr>\n",
       "    <tr>\n",
       "      <th>roc_auc</th>\n",
       "      <td>0.868642</td>\n",
       "      <td>NaN</td>\n",
       "      <td>NaN</td>\n",
       "    </tr>\n",
       "    <tr>\n",
       "      <th>log_loss</th>\n",
       "      <td>1.080386</td>\n",
       "      <td>NaN</td>\n",
       "      <td>NaN</td>\n",
       "    </tr>\n",
       "  </tbody>\n",
       "</table>\n",
       "</div>"
      ],
      "text/plain": [
       "          LogisticReg_tuned DecisionTree_tuned RandomForest_tuned\n",
       "Accuracy           0.589461                NaN                NaN\n",
       "precision          0.656494                NaN                NaN\n",
       "recall             0.589461                NaN                NaN\n",
       "f1_score           0.613063                NaN                NaN\n",
       "roc_auc            0.868642                NaN                NaN\n",
       "log_loss           1.080386                NaN                NaN"
      ]
     },
     "execution_count": 45,
     "metadata": {},
     "output_type": "execute_result"
    }
   ],
   "source": [
    "get_performance(model = lr_model, model_name = 'LogisticReg_tuned', y_test=y_test, y_pred= y_pred_lr)"
   ]
  },
  {
   "cell_type": "code",
   "execution_count": 46,
   "id": "03698b4f",
   "metadata": {},
   "outputs": [
    {
     "data": {
      "text/plain": [
       "{'criterion': 'entropy',\n",
       " 'max_depth': 9,\n",
       " 'min_samples_leaf': 2,\n",
       " 'min_samples_split': 2,\n",
       " 'random_state': 42}"
      ]
     },
     "execution_count": 46,
     "metadata": {},
     "output_type": "execute_result"
    }
   ],
   "source": [
    "# Decision Tree\n",
    "param_grid = {'criterion' : ['gini', 'entropy'],\n",
    "        'max_depth' : [5,7,9],\n",
    "        'min_samples_leaf': [2,3,4,5,6],\n",
    "        'min_samples_split': [1,2,3,4],\n",
    "        'random_state': [42]\n",
    "        }\n",
    "\n",
    "\n",
    "dt_model = GridSearchCV(DecisionTreeClassifier(), param_grid, cv =5, scoring='f1_weighted')\n",
    "dt_model.fit(X_train,y_train)\n",
    "dt_model.best_params_"
   ]
  },
  {
   "cell_type": "code",
   "execution_count": 47,
   "id": "dde845c0",
   "metadata": {},
   "outputs": [
    {
     "data": {
      "text/plain": [
       "{'criterion': 'entropy',\n",
       " 'max_depth': 9,\n",
       " 'min_samples_leaf': 2,\n",
       " 'min_samples_split': 2,\n",
       " 'random_state': 42}"
      ]
     },
     "execution_count": 47,
     "metadata": {},
     "output_type": "execute_result"
    }
   ],
   "source": [
    "best_params = dt_model.best_params_\n",
    "best_params"
   ]
  },
  {
   "cell_type": "code",
   "execution_count": 48,
   "id": "3277f17f",
   "metadata": {},
   "outputs": [
    {
     "data": {
      "text/plain": [
       "\"\\n{'criterion': 'entropy',\\n 'max_depth': 9,\\n 'max_features': 9,\\n 'min_samples_leaf': 1,\\n 'random_state': 42}\\n\""
      ]
     },
     "execution_count": 48,
     "metadata": {},
     "output_type": "execute_result"
    }
   ],
   "source": [
    "\"\"\"\n",
    "{'criterion': 'entropy',\n",
    " 'max_depth': 9,\n",
    " 'min_samples_leaf': 2,\n",
    " 'min_samples_split': 2,\n",
    " 'random_state': 42}\n",
    "\"\"\""
   ]
  },
  {
   "cell_type": "code",
   "execution_count": 49,
   "id": "962a3c73",
   "metadata": {},
   "outputs": [
    {
     "data": {
      "text/plain": [
       "0.7497089054107066"
      ]
     },
     "execution_count": 49,
     "metadata": {},
     "output_type": "execute_result"
    }
   ],
   "source": [
    "dt_model = DecisionTreeClassifier(**best_params)\n",
    "dt_model.fit(X_train,y_train)\n",
    "y_pred_dt = dt_model.predict(X_test)\n",
    "\n",
    "f1_score(y_pred_dt,y_test, average= 'weighted')"
   ]
  },
  {
   "cell_type": "code",
   "execution_count": 50,
   "id": "a339e3bd",
   "metadata": {},
   "outputs": [
    {
     "data": {
      "text/html": [
       "<div>\n",
       "<style scoped>\n",
       "    .dataframe tbody tr th:only-of-type {\n",
       "        vertical-align: middle;\n",
       "    }\n",
       "\n",
       "    .dataframe tbody tr th {\n",
       "        vertical-align: top;\n",
       "    }\n",
       "\n",
       "    .dataframe thead th {\n",
       "        text-align: right;\n",
       "    }\n",
       "</style>\n",
       "<table border=\"1\" class=\"dataframe\">\n",
       "  <thead>\n",
       "    <tr style=\"text-align: right;\">\n",
       "      <th></th>\n",
       "      <th>LogisticReg_tuned</th>\n",
       "      <th>DecisionTree_tuned</th>\n",
       "      <th>RandomForest_tuned</th>\n",
       "    </tr>\n",
       "  </thead>\n",
       "  <tbody>\n",
       "    <tr>\n",
       "      <th>Accuracy</th>\n",
       "      <td>0.589461</td>\n",
       "      <td>0.73652</td>\n",
       "      <td>NaN</td>\n",
       "    </tr>\n",
       "    <tr>\n",
       "      <th>precision</th>\n",
       "      <td>0.656494</td>\n",
       "      <td>0.776399</td>\n",
       "      <td>NaN</td>\n",
       "    </tr>\n",
       "    <tr>\n",
       "      <th>recall</th>\n",
       "      <td>0.589461</td>\n",
       "      <td>0.73652</td>\n",
       "      <td>NaN</td>\n",
       "    </tr>\n",
       "    <tr>\n",
       "      <th>f1_score</th>\n",
       "      <td>0.613063</td>\n",
       "      <td>0.749709</td>\n",
       "      <td>NaN</td>\n",
       "    </tr>\n",
       "    <tr>\n",
       "      <th>roc_auc</th>\n",
       "      <td>0.868642</td>\n",
       "      <td>0.891443</td>\n",
       "      <td>NaN</td>\n",
       "    </tr>\n",
       "    <tr>\n",
       "      <th>log_loss</th>\n",
       "      <td>1.080386</td>\n",
       "      <td>4.159494</td>\n",
       "      <td>NaN</td>\n",
       "    </tr>\n",
       "  </tbody>\n",
       "</table>\n",
       "</div>"
      ],
      "text/plain": [
       "          LogisticReg_tuned DecisionTree_tuned RandomForest_tuned\n",
       "Accuracy           0.589461            0.73652                NaN\n",
       "precision          0.656494           0.776399                NaN\n",
       "recall             0.589461            0.73652                NaN\n",
       "f1_score           0.613063           0.749709                NaN\n",
       "roc_auc            0.868642           0.891443                NaN\n",
       "log_loss           1.080386           4.159494                NaN"
      ]
     },
     "execution_count": 50,
     "metadata": {},
     "output_type": "execute_result"
    }
   ],
   "source": [
    "get_performance(model = dt_model, model_name = 'DecisionTree_tuned', y_test=y_test, y_pred= y_pred_dt)"
   ]
  },
  {
   "cell_type": "code",
   "execution_count": 51,
   "id": "7f200646",
   "metadata": {},
   "outputs": [
    {
     "data": {
      "text/plain": [
       "{'criterion': 'entropy',\n",
       " 'max_depth': 9,\n",
       " 'min_samples_leaf': 2,\n",
       " 'min_samples_split': 2,\n",
       " 'n_estimators': 200,\n",
       " 'n_jobs': -1,\n",
       " 'oob_score': True,\n",
       " 'random_state': 42}"
      ]
     },
     "execution_count": 51,
     "metadata": {},
     "output_type": "execute_result"
    }
   ],
   "source": [
    "# Random Forest\n",
    "\n",
    "param_grid = {'criterion' : ['gini', 'entropy'],\n",
    "        'n_estimators' : [10,100,200],\n",
    "        'max_depth' : [5,7,9],\n",
    "        'min_samples_leaf': [2,3,4,5],\n",
    "        'min_samples_split': [2,3,4],\n",
    "        'oob_score' : [True,False],\n",
    "        'n_jobs': [-1],\n",
    "        'random_state': [42]\n",
    "        }\n",
    "\n",
    "rf_model = GridSearchCV(RandomForestClassifier(), param_grid, scoring='f1_weighted')\n",
    "rf_model.fit(X_train,y_train)\n",
    "rf_model.best_params_"
   ]
  },
  {
   "cell_type": "code",
   "execution_count": 52,
   "id": "2c4b9a1d",
   "metadata": {},
   "outputs": [
    {
     "data": {
      "text/plain": [
       "\"\\n{'criterion': 'entropy',\\n 'max_depth': 9,\\n 'min_samples_leaf': 2,\\n 'min_samples_split': 2,\\n 'n_estimators': 200,\\n 'n_jobs': -1,\\n 'oob_score': True,\\n 'random_state': 42}\\n\""
      ]
     },
     "execution_count": 52,
     "metadata": {},
     "output_type": "execute_result"
    }
   ],
   "source": [
    "\"\"\"\n",
    "{'criterion': 'entropy',\n",
    " 'max_depth': 9,\n",
    " 'min_samples_leaf': 2,\n",
    " 'min_samples_split': 2,\n",
    " 'n_estimators': 200,\n",
    " 'n_jobs': -1,\n",
    " 'oob_score': True,\n",
    " 'random_state': 42}\n",
    "\"\"\""
   ]
  },
  {
   "cell_type": "code",
   "execution_count": 53,
   "id": "f8e2fae0",
   "metadata": {},
   "outputs": [
    {
     "data": {
      "text/plain": [
       "{'criterion': 'entropy',\n",
       " 'max_depth': 9,\n",
       " 'min_samples_leaf': 2,\n",
       " 'min_samples_split': 2,\n",
       " 'n_estimators': 200,\n",
       " 'n_jobs': -1,\n",
       " 'oob_score': True,\n",
       " 'random_state': 42}"
      ]
     },
     "execution_count": 53,
     "metadata": {},
     "output_type": "execute_result"
    }
   ],
   "source": [
    "best_params = rf_model.best_params_\n",
    "best_params"
   ]
  },
  {
   "cell_type": "code",
   "execution_count": 54,
   "id": "80581123",
   "metadata": {},
   "outputs": [
    {
     "data": {
      "text/plain": [
       "0.8402766257823328"
      ]
     },
     "execution_count": 54,
     "metadata": {},
     "output_type": "execute_result"
    }
   ],
   "source": [
    "rf_model = RandomForestClassifier(**best_params)\n",
    "rf_model.fit(X_train,y_train)\n",
    "y_pred_rf = rf_model.predict(X_test)\n",
    "\n",
    "f1_score(y_pred_rf,y_test, average= 'weighted')"
   ]
  },
  {
   "cell_type": "code",
   "execution_count": 55,
   "id": "91ada183",
   "metadata": {},
   "outputs": [
    {
     "data": {
      "text/html": [
       "<div>\n",
       "<style scoped>\n",
       "    .dataframe tbody tr th:only-of-type {\n",
       "        vertical-align: middle;\n",
       "    }\n",
       "\n",
       "    .dataframe tbody tr th {\n",
       "        vertical-align: top;\n",
       "    }\n",
       "\n",
       "    .dataframe thead th {\n",
       "        text-align: right;\n",
       "    }\n",
       "</style>\n",
       "<table border=\"1\" class=\"dataframe\">\n",
       "  <thead>\n",
       "    <tr style=\"text-align: right;\">\n",
       "      <th></th>\n",
       "      <th>LogisticReg_tuned</th>\n",
       "      <th>DecisionTree_tuned</th>\n",
       "      <th>RandomForest_tuned</th>\n",
       "    </tr>\n",
       "  </thead>\n",
       "  <tbody>\n",
       "    <tr>\n",
       "      <th>Accuracy</th>\n",
       "      <td>0.589461</td>\n",
       "      <td>0.73652</td>\n",
       "      <td>0.832108</td>\n",
       "    </tr>\n",
       "    <tr>\n",
       "      <th>precision</th>\n",
       "      <td>0.656494</td>\n",
       "      <td>0.776399</td>\n",
       "      <td>0.855489</td>\n",
       "    </tr>\n",
       "    <tr>\n",
       "      <th>recall</th>\n",
       "      <td>0.589461</td>\n",
       "      <td>0.73652</td>\n",
       "      <td>0.832108</td>\n",
       "    </tr>\n",
       "    <tr>\n",
       "      <th>f1_score</th>\n",
       "      <td>0.613063</td>\n",
       "      <td>0.749709</td>\n",
       "      <td>0.840277</td>\n",
       "    </tr>\n",
       "    <tr>\n",
       "      <th>roc_auc</th>\n",
       "      <td>0.868642</td>\n",
       "      <td>0.891443</td>\n",
       "      <td>0.964822</td>\n",
       "    </tr>\n",
       "    <tr>\n",
       "      <th>log_loss</th>\n",
       "      <td>1.080386</td>\n",
       "      <td>4.159494</td>\n",
       "      <td>0.56434</td>\n",
       "    </tr>\n",
       "  </tbody>\n",
       "</table>\n",
       "</div>"
      ],
      "text/plain": [
       "          LogisticReg_tuned DecisionTree_tuned RandomForest_tuned\n",
       "Accuracy           0.589461            0.73652           0.832108\n",
       "precision          0.656494           0.776399           0.855489\n",
       "recall             0.589461            0.73652           0.832108\n",
       "f1_score           0.613063           0.749709           0.840277\n",
       "roc_auc            0.868642           0.891443           0.964822\n",
       "log_loss           1.080386           4.159494            0.56434"
      ]
     },
     "execution_count": 55,
     "metadata": {},
     "output_type": "execute_result"
    }
   ],
   "source": [
    "get_performance(model = rf_model, model_name = 'RandomForest_tuned', y_test=y_test, y_pred= y_pred_rf)"
   ]
  },
  {
   "cell_type": "markdown",
   "id": "7c986a32",
   "metadata": {},
   "source": [
    "* f1_score of RandomForest is maximum moreover both precision and recall are also high."
   ]
  },
  {
   "cell_type": "code",
   "execution_count": 56,
   "id": "2ec13a8f",
   "metadata": {},
   "outputs": [],
   "source": [
    "# Saving the model and transformer objects\n",
    "\n",
    "pickle.dump(output_encoder, open(os.path.join(os.getcwd(), 'output_encoder.pkl'),'wb'))\n",
    "pickle.dump(scaler, open(os.path.join(os.getcwd(), 'Red_Wine_Quality_scaler.pkl'),'wb'))\n",
    "pickle.dump(rf_model, open(os.path.join(os.getcwd(), 'Red_Wine_Quality_model.pkl'),'wb'))"
   ]
  }
 ],
 "metadata": {
  "kernelspec": {
   "display_name": "Python 3 (ipykernel)",
   "language": "python",
   "name": "python3"
  },
  "language_info": {
   "codemirror_mode": {
    "name": "ipython",
    "version": 3
   },
   "file_extension": ".py",
   "mimetype": "text/x-python",
   "name": "python",
   "nbconvert_exporter": "python",
   "pygments_lexer": "ipython3",
   "version": "3.9.13"
  },
  "vscode": {
   "interpreter": {
    "hash": "df5a47594a4c7fa77718041c239adbe925734d95d528854ea959dd8eef4ca91e"
   }
  }
 },
 "nbformat": 4,
 "nbformat_minor": 5
}
